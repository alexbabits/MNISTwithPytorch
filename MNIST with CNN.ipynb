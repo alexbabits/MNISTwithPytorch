{
 "cells": [
  {
   "cell_type": "code",
   "execution_count": 1,
   "metadata": {},
   "outputs": [
    {
     "name": "stdout",
     "output_type": "stream",
     "text": [
      "Requirement already satisfied: pandas in c:\\users\\admin\\appdata\\local\\packages\\pythonsoftwarefoundation.python.3.10_qbz5n2kfra8p0\\localcache\\local-packages\\python310\\site-packages (1.5.3)\n",
      "Requirement already satisfied: python-dateutil>=2.8.1 in c:\\users\\admin\\appdata\\local\\packages\\pythonsoftwarefoundation.python.3.10_qbz5n2kfra8p0\\localcache\\local-packages\\python310\\site-packages (from pandas) (2.8.2)\n",
      "Requirement already satisfied: pytz>=2020.1 in c:\\users\\admin\\appdata\\local\\packages\\pythonsoftwarefoundation.python.3.10_qbz5n2kfra8p0\\localcache\\local-packages\\python310\\site-packages (from pandas) (2022.7.1)\n",
      "Requirement already satisfied: numpy>=1.21.0 in c:\\users\\admin\\appdata\\local\\packages\\pythonsoftwarefoundation.python.3.10_qbz5n2kfra8p0\\localcache\\local-packages\\python310\\site-packages (from pandas) (1.23.5)\n",
      "Requirement already satisfied: six>=1.5 in c:\\users\\admin\\appdata\\local\\packages\\pythonsoftwarefoundation.python.3.10_qbz5n2kfra8p0\\localcache\\local-packages\\python310\\site-packages (from python-dateutil>=2.8.1->pandas) (1.16.0)\n",
      "Note: you may need to restart the kernel to use updated packages.\n",
      "Looking in indexes: https://download.pytorch.org/whl/cu121\n",
      "Requirement already satisfied: torch in c:\\users\\admin\\appdata\\local\\packages\\pythonsoftwarefoundation.python.3.10_qbz5n2kfra8p0\\localcache\\local-packages\\python310\\site-packages (2.0.0)\n",
      "Requirement already satisfied: torchvision in c:\\users\\admin\\appdata\\local\\packages\\pythonsoftwarefoundation.python.3.10_qbz5n2kfra8p0\\localcache\\local-packages\\python310\\site-packages (0.15.1)\n",
      "Requirement already satisfied: filelock in c:\\users\\admin\\appdata\\local\\packages\\pythonsoftwarefoundation.python.3.10_qbz5n2kfra8p0\\localcache\\local-packages\\python310\\site-packages (from torch) (3.11.0)\n",
      "Requirement already satisfied: typing-extensions in c:\\users\\admin\\appdata\\local\\packages\\pythonsoftwarefoundation.python.3.10_qbz5n2kfra8p0\\localcache\\local-packages\\python310\\site-packages (from torch) (4.5.0)\n",
      "Requirement already satisfied: sympy in c:\\users\\admin\\appdata\\local\\packages\\pythonsoftwarefoundation.python.3.10_qbz5n2kfra8p0\\localcache\\local-packages\\python310\\site-packages (from torch) (1.11.1)\n",
      "Requirement already satisfied: networkx in c:\\users\\admin\\appdata\\local\\packages\\pythonsoftwarefoundation.python.3.10_qbz5n2kfra8p0\\localcache\\local-packages\\python310\\site-packages (from torch) (3.1)\n",
      "Requirement already satisfied: jinja2 in c:\\users\\admin\\appdata\\local\\packages\\pythonsoftwarefoundation.python.3.10_qbz5n2kfra8p0\\localcache\\local-packages\\python310\\site-packages (from torch) (3.1.2)\n",
      "Requirement already satisfied: numpy in c:\\users\\admin\\appdata\\local\\packages\\pythonsoftwarefoundation.python.3.10_qbz5n2kfra8p0\\localcache\\local-packages\\python310\\site-packages (from torchvision) (1.23.5)\n",
      "Requirement already satisfied: requests in c:\\users\\admin\\appdata\\local\\packages\\pythonsoftwarefoundation.python.3.10_qbz5n2kfra8p0\\localcache\\local-packages\\python310\\site-packages (from torchvision) (2.28.2)\n",
      "Requirement already satisfied: pillow!=8.3.*,>=5.3.0 in c:\\users\\admin\\appdata\\local\\packages\\pythonsoftwarefoundation.python.3.10_qbz5n2kfra8p0\\localcache\\local-packages\\python310\\site-packages (from torchvision) (9.5.0)\n",
      "Requirement already satisfied: MarkupSafe>=2.0 in c:\\users\\admin\\appdata\\local\\packages\\pythonsoftwarefoundation.python.3.10_qbz5n2kfra8p0\\localcache\\local-packages\\python310\\site-packages (from jinja2->torch) (2.1.2)\n",
      "Requirement already satisfied: charset-normalizer<4,>=2 in c:\\users\\admin\\appdata\\local\\packages\\pythonsoftwarefoundation.python.3.10_qbz5n2kfra8p0\\localcache\\local-packages\\python310\\site-packages (from requests->torchvision) (3.0.1)\n",
      "Requirement already satisfied: idna<4,>=2.5 in c:\\users\\admin\\appdata\\local\\packages\\pythonsoftwarefoundation.python.3.10_qbz5n2kfra8p0\\localcache\\local-packages\\python310\\site-packages (from requests->torchvision) (3.4)\n",
      "Requirement already satisfied: urllib3<1.27,>=1.21.1 in c:\\users\\admin\\appdata\\local\\packages\\pythonsoftwarefoundation.python.3.10_qbz5n2kfra8p0\\localcache\\local-packages\\python310\\site-packages (from requests->torchvision) (1.26.14)\n",
      "Requirement already satisfied: certifi>=2017.4.17 in c:\\users\\admin\\appdata\\local\\packages\\pythonsoftwarefoundation.python.3.10_qbz5n2kfra8p0\\localcache\\local-packages\\python310\\site-packages (from requests->torchvision) (2022.12.7)\n",
      "Requirement already satisfied: mpmath>=0.19 in c:\\users\\admin\\appdata\\local\\packages\\pythonsoftwarefoundation.python.3.10_qbz5n2kfra8p0\\localcache\\local-packages\\python310\\site-packages (from sympy->torch) (1.3.0)\n",
      "Note: you may need to restart the kernel to use updated packages.\n"
     ]
    }
   ],
   "source": [
    "%pip install pandas\n",
    "%pip install torch torchvision --index-url https://download.pytorch.org/whl/cu121\n",
    "import pandas as pd\n",
    "import numpy as np\n",
    "import torch\n",
    "import torchvision\n",
    "import torch.nn as nn\n",
    "import torch.nn.functional as F\n",
    "import torch.optim as optim\n",
    "from torchvision import datasets, transforms\n",
    "from torch.utils.data import DataLoader\n",
    "\n",
    "#from PIL import Image (Helps add image processing if needed)\n",
    "#from torch.utils.data import Dataset (for custom datasets if needed)"
   ]
  },
  {
   "cell_type": "code",
   "execution_count": 2,
   "metadata": {},
   "outputs": [],
   "source": [
    "# Preparing the data\n",
    "\n",
    "# Number of classes in the MNIST dataset (digits 0-9).\n",
    "num_classes = 10\n",
    "# (channels, [dimensions of image in pixels]). Greyscale = 1, RGB = 3.\n",
    "input_shape = (1, 28, 28)\n",
    "\n",
    "# Instances of Pytorch dataset objects which load and split the MNIST data into train and test sets and transforms the images to tensors.\n",
    "train_dataset = datasets.MNIST(root='./data', train=True, download=True, transform=transforms.Compose([transforms.ToTensor()]))\n",
    "test_dataset = datasets.MNIST(root='./data', train=False, transform=transforms.Compose([transforms.ToTensor()]))\n",
    "# Objects to provide access to the tensor data during training and testing.\n",
    "train_loader = DataLoader(train_dataset, batch_size=32, shuffle=True)\n",
    "test_loader = DataLoader(test_dataset, batch_size=32, shuffle=False)"
   ]
  },
  {
   "cell_type": "code",
   "execution_count": 3,
   "metadata": {},
   "outputs": [],
   "source": [
    "# Building the model (Creating custom CNN 'Net' using nn.Module class)\n",
    "class Net(nn.Module):\n",
    "    # Initialization function\n",
    "    def __init__(self):\n",
    "        # Constructor which initializes the layers and defines parameters.\n",
    "        super(Net, self).__init__()\n",
    "        # convolutional layer for extracting local features/patterns. (input channels, output channels, kernel size, stride).\n",
    "        self.conv1 = nn.Conv2d(1, 4, 3, 1)\n",
    "        # max pooling layer for downsampling to retain important features & reduce spatial dimensions. (kernel size, stride).\n",
    "        self.pool = nn.MaxPool2d(2, 2)\n",
    "        # dropout layer for regularization. Prevents overfitting. (Probability of element dropped during dropout).\n",
    "        self.dropout = nn.Dropout2d(0.5)\n",
    "        # fully connected layer for classification. (input size, output size).\n",
    "        self.fc1 = nn.Linear(4 * 13 * 13, num_classes)\n",
    "\n",
    "    # Function to define how the input flows through the layers.\n",
    "    def forward(self, x):\n",
    "        # Applies convolutional layer, activation function (ReLU) for non-linearity, and pooling layer to the input.\n",
    "        x = self.pool(F.relu(self.conv1(x)))\n",
    "        # Reshapes the output tensor to match the input size of the fully connected layer.\n",
    "        x = x.view(-1, 4 * 13 * 13)\n",
    "        # Applies dropout layer to prevent overfitting by randomly zeroing some elements.\n",
    "        x = self.dropout(x)\n",
    "        # Flattens and passes the input through the fully connected layer, performs linear transformation for classification.\n",
    "        x = self.fc1(x)\n",
    "        # Logarithmic softmax function applied to produce the output probabilities.\n",
    "        return F.log_softmax(x, dim=1)\n",
    "\n",
    "model = Net()"
   ]
  },
  {
   "cell_type": "code",
   "execution_count": 7,
   "metadata": {},
   "outputs": [],
   "source": [
    "# Training the model\n",
    "\n",
    "# Device selection\n",
    "device = torch.device(\"cuda\" if torch.cuda.is_available() else \"cpu\")\n",
    "model.to(device)\n",
    "\n",
    "# Optimizer using Adam op algo to optimize parameters during training with the set learning rate.\n",
    "optimizer = optim.Adam(model.parameters(), lr=0.001)\n",
    "# Loss function (combines softmax activation and negative log-likelihood loss).\n",
    "criterion = nn.CrossEntropyLoss()\n",
    "\n",
    "# Performs the training loop for a number of epochs.\n",
    "def train(model, device, train_loader, optimizer, epoch):\n",
    "    # Sets model in training mode, so it can update it's parameters during training.\n",
    "    model.train()\n",
    "    # Iterates over the loader.\n",
    "    for batch_idx, (data, target) in enumerate(train_loader):\n",
    "        # Input data and target labels moved to the GPU/CPU.\n",
    "        data, target = data.to(device), target.to(device)\n",
    "        # Optimizer's gradients reset to clear accumulated gradients from pervious batches.\n",
    "        optimizer.zero_grad()\n",
    "        # forward pass is performed, obtaining predicted outputs.\n",
    "        output = model(data)\n",
    "        # Loss calculated by comparing predicted outputs with target labels.\n",
    "        loss = criterion(output, target)\n",
    "        # Gradients are computed and backproped.\n",
    "        loss.backward()\n",
    "        # Optimizer updates models parameters.\n",
    "        optimizer.step()"
   ]
  },
  {
   "cell_type": "code",
   "execution_count": 8,
   "metadata": {},
   "outputs": [
    {
     "name": "stdout",
     "output_type": "stream",
     "text": [
      "\n",
      "Test set: Average loss: 0.0037, Accuracy: 9655/10000 (96.55%)\n",
      "\n"
     ]
    }
   ],
   "source": [
    "torch.set_num_threads(2)\n",
    "\n",
    "# Evaluating the trained model\n",
    "def test(model, device, test_loader):\n",
    "    # Sets model in evaluation mode (disables dropout and batch normalization).\n",
    "    model.eval()\n",
    "    # Initialization of cumulative loss and correctly predicted samples.\n",
    "    test_loss = 0\n",
    "    correct = 0\n",
    "    # Ensures no gradient calcs are performed during the evaluation, reducing memory consumption.\n",
    "    with torch.no_grad():\n",
    "        # Iterates over (image, label) batches in test dataset.\n",
    "        for data, target in test_loader:\n",
    "            # Input data and target labels moved to the GPU/CPU.\n",
    "            data, target = data.to(device), target.to(device)\n",
    "            # forward pass is performed, obtaining predicted outputs.\n",
    "            output = model(data)\n",
    "            # Accumulated test loss between predicted output and target labels.\n",
    "            test_loss += criterion(output, target).item()\n",
    "            # Tensor containing the predicted labels by taking the idx of the max value .\n",
    "            pred = output.argmax(dim=1, keepdim=True)\n",
    "            # Accumulated correct predictions by comparing predicted labels with target labels.\n",
    "            correct += pred.eq(target.view_as(pred)).sum().item()\n",
    "    # Obtains average loss.\n",
    "    test_loss /= len(test_loader.dataset)\n",
    "    return test_loss, correct\n",
    "\n",
    "# Runs training process for n-1 epochs.\n",
    "for epoch in range(1, 6):\n",
    "    train(model, device, train_loader, optimizer, epoch)\n",
    "\n",
    "\n",
    "# Calls the test function after all the epochs and then prints the result\n",
    "test_loss, correct = test(model, device, test_loader)\n",
    "print('\\nTest set: Average loss: {:.4f}, Accuracy: {}/{} ({:.2f}%)\\n'.format(test_loss, correct, len(test_loader.dataset), 100. * correct / len(test_loader.dataset)))"
   ]
  }
 ],
 "metadata": {
  "kernelspec": {
   "display_name": "Python 3",
   "language": "python",
   "name": "python3"
  },
  "language_info": {
   "codemirror_mode": {
    "name": "ipython",
    "version": 3
   },
   "file_extension": ".py",
   "mimetype": "text/x-python",
   "name": "python",
   "nbconvert_exporter": "python",
   "pygments_lexer": "ipython3",
   "version": "3.10.11"
  },
  "orig_nbformat": 4
 },
 "nbformat": 4,
 "nbformat_minor": 2
}
